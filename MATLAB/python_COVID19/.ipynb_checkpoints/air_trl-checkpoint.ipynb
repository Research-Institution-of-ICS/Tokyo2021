{
 "cells": [
  {
   "cell_type": "code",
   "execution_count": 1,
   "metadata": {},
   "outputs": [],
   "source": [
    "#引入漂亮汤\n",
    "from bs4 import BeautifulSoup\n",
    "#引入requests包，发送http请求\n",
    "import requests\n",
    "#引入xlwt包，写入excel文件\n",
    "import xlwt \n",
    "#引入xl包，用来读取excel文件\n",
    "import xlrd\n",
    "import pandas as pd \n",
    "import numpy as np "
   ]
  },
  {
   "cell_type": "code",
   "execution_count": null,
   "metadata": {},
   "outputs": [],
   "source": [
    "url = 'http://www.6qt.net/index.asp?Field=&keyword=&MaxPerPage=50&page=1'\n",
    "#url = 'http://www.zou114.com/sanzidaima/index.asp?zm=&page=1'"
   ]
  },
  {
   "cell_type": "code",
   "execution_count": null,
   "metadata": {},
   "outputs": [],
   "source": [
    "#伪装成浏览器\n",
    "headers = {'User-Agent':'Mozilla/5.0 (Windows NT 6.1; WOW64) AppleWebKit/537.1 (KHTML, like Gecko) Chrome/21.0.1180.71 Safari/537.1 LBBROWSER'}\n",
    "#get从网页获取信息\n",
    "res = requests.get(url,headers=headers)"
   ]
  },
  {
   "cell_type": "code",
   "execution_count": null,
   "metadata": {},
   "outputs": [],
   "source": [
    "soup = BeautifulSoup(res.content, 'lxml', from_encoding=\"gb18030\")\n",
    "print(soup)"
   ]
  },
  {
   "cell_type": "code",
   "execution_count": null,
   "metadata": {},
   "outputs": [],
   "source": [
    "table = soup.find('table', attrs={'class': 'border'})\n",
    "# table = soup.find('table', attrs={'class': 'tablea'})\n",
    "print(table)"
   ]
  },
  {
   "cell_type": "code",
   "execution_count": null,
   "metadata": {},
   "outputs": [],
   "source": [
    "tdbg = table.find_all('tr', attrs={'class': 'tdbg'})\n",
    "# tdbg = table.find_all('tr')\n",
    "print(tdbg)"
   ]
  },
  {
   "cell_type": "code",
   "execution_count": null,
   "metadata": {},
   "outputs": [],
   "source": [
    "for i in tdbg:\n",
    "    print(i)\n",
    "    break;\n"
   ]
  },
  {
   "cell_type": "code",
   "execution_count": null,
   "metadata": {},
   "outputs": [],
   "source": [
    "data_list = []"
   ]
  },
  {
   "cell_type": "code",
   "execution_count": null,
   "metadata": {},
   "outputs": [],
   "source": [
    "data = i.find_all('td')\n",
    "print(data[0])\n",
    "print(data[0].find('a'))"
   ]
  },
  {
   "cell_type": "code",
   "execution_count": null,
   "metadata": {},
   "outputs": [],
   "source": []
  },
  {
   "cell_type": "code",
   "execution_count": null,
   "metadata": {},
   "outputs": [],
   "source": [
    "#!/usr/bin/python\n",
    "\n",
    "\n",
    "from bs4 import BeautifulSoup\n",
    "\n",
    "import requests\n",
    "\n",
    "import pandas as pd\n",
    "\n",
    "def getList(url):\n",
    "\n",
    "    headers = {\n",
    "        'User-Agent': 'Mozilla/5.0 (Windows NT 6.1; WOW64) AppleWebKit/537.1 (KHTML, like Gecko) Chrome/21.0.1180.71 Safari/537.1 LBBROWSER'}\n",
    "\n",
    "    res = requests.get(url, headers=headers)\n",
    "\n",
    "    soup = BeautifulSoup(res.content, 'lxml', from_encoding=\"gb18030\")\n",
    "\n",
    "\n",
    "    table = soup.find('table', attrs={'class': 'border'})\n",
    "    tdbg = table.find_all('tr', attrs={'class': 'tdbg'})\n",
    "\n",
    "    data_list = []\n",
    "    for item in tdbg:\n",
    "        data = item.find_all('td')\n",
    "        if data[0].find('a')!=None:\n",
    "            city = data[0].find('a').get_text()\n",
    "            city = \"\".join(city.split())\n",
    "            city_code = data[1].find('a').get_text()\n",
    "            city_code = \"\".join(city_code.split())\n",
    "            country = data[2].find('a').get_text()\n",
    "            coutry_code = data[3].find('a').get_text()\n",
    "            index_list = []\n",
    "            index_list.append(city)\n",
    "            index_list.append(city_code)\n",
    "            index_list.append(country)\n",
    "            index_list.append(coutry_code)\n",
    "            data_list.append(index_list)\n",
    "            print(index_list)\n",
    "    return data_list\n",
    "\n",
    "\n",
    "def main():\n",
    "    urls = []\n",
    "    for i in range(49):\n",
    "        urls.append('http://www.6qt.net/index.asp?Field=&keyword=&MaxPerPage=50&page='+str(i))\n",
    "\n",
    "\n",
    "    city_list = []\n",
    "    citycode_list = []\n",
    "    country_list = []\n",
    "    countrycode_list = []\n",
    "    for url in urls:\n",
    "        lst = getList(url)\n",
    "        for item in lst:\n",
    "            city_list.append(item[0])\n",
    "            citycode_list.append(item[1])\n",
    "            country_list.append(item[2])\n",
    "            countrycode_list.append(item[3])\n",
    "\n",
    "    data_dict = {'city': city_list, 'city_code': citycode_list,\n",
    "                 'country': country_list, 'country_code': countrycode_list}\n",
    "    \n",
    "    data = pd.DataFrame(data_dict)\n",
    "    data.to_csv(r'C:\\Users\\lenovo\\Desktop\\air_trl.csv', index=0)\n",
    "    # file = pd.read_csv(r'C:\\Users\\tecmry\\Desktop\\fre_city1.csv')\n",
    "\n",
    "if __name__ == '__main__':\n",
    "    main()\n"
   ]
  },
  {
   "cell_type": "code",
   "execution_count": null,
   "metadata": {},
   "outputs": [],
   "source": [
    "file = pd.read_csv(r'C:/Users/lenovo/Desktop/参考论文/2016_flight/fre_city1.csv', usecols=['city1','city2','number','time'])\n",
    "print(file)\n",
    "new_file=file[~(file['number']<5)]\n",
    "print(new_file)\n",
    "#file.dropna(axis=0, how='any', inplace=True) \n",
    "#print(file)\n"
   ]
  },
  {
   "cell_type": "code",
   "execution_count": null,
   "metadata": {},
   "outputs": [],
   "source": [
    "count = 0;\n",
    "for i in range(31):\n",
    "    file = pd.read_csv(r'C:/Users/lenovo/Desktop/参考论文/2016_flight/fre_city'+str(i+1)+'.csv', usecols=['city1','city2','number','time'])\n",
    "    # file=file[~file['number'].isin([1])]\n",
    "    # file = pd.DataFrame(file) \n",
    "    \n",
    "    groups = file.groupby(file[u'time'])\n",
    "    for group in groups:  \n",
    "        time=group[0].replace('/', '-')\n",
    "        print(time)\n",
    "        path = r'C:\\Users\\lenovo\\Desktop\\参考论文\\2016_flight\\date2\\\\'+ str(count) + '.csv'\n",
    "        group[1].to_csv(path, index=0)\n",
    "        count = count + 1 "
   ]
  },
  {
   "cell_type": "code",
   "execution_count": 121,
   "metadata": {},
   "outputs": [],
   "source": [
    "import numpy as np \n",
    "file1 = pd.read_csv(r'C:\\Users\\lenovo\\Desktop\\code.csv', usecols=['iata_code'])\n",
    "for j in range(62):\n",
    "    count = []\n",
    "    flight = np.zeros((len(file1), len(file1)))\n",
    "    file2 = pd.read_csv(r'C:\\Users\\lenovo\\Desktop\\参考论文\\2016_flight\\date2\\\\'+str(j)+'.csv', usecols=[0,1,2])\n",
    "    file2 = pd.DataFrame(file2)\n",
    "    for i in range(len(file2)):\n",
    "        take_off_city  = file2.loc[i][0]\n",
    "        down_city = file2.loc[i][1]\n",
    "        number = file2.loc[i][2]\n",
    "        #print(i)\n",
    "        a = file1[file1['iata_code'].isin([take_off_city])].index.tolist()\n",
    "        b = file1[file1['iata_code'].isin([down_city])].index.tolist()\n",
    "        if a == [] or b == []:\n",
    "            temp = file2.iloc[i]\n",
    "            count.append(temp)\n",
    "            continue;\n",
    "        else:\n",
    "            a = a[0]\n",
    "            b = b[0]\n",
    "        flight[a][b] += number\n",
    "    flight = pd.DataFrame(flight,columns = file1['iata_code'])\n",
    "    flight.to_csv(r'C:\\Users\\lenovo\\Desktop\\参考论文\\2016_flight\\array_data\\\\'+'array'+str(j)+'.csv',index=0)\n",
    "    count = pd.DataFrame(count)\n",
    "    count.to_csv(r'C:\\Users\\lenovo\\Desktop\\参考论文\\2016_flight\\loss_data\\\\loss_data'+str(j)+'.csv',index=0)"
   ]
  },
  {
   "cell_type": "code",
   "execution_count": 16,
   "metadata": {},
   "outputs": [
    {
     "name": "stdout",
     "output_type": "stream",
     "text": [
      "41\n"
     ]
    }
   ],
   "source": [
    "# flight.to_csv(r'C:\\Users\\lenovo\\Desktop\\参考论文\\2016_flight\\data\\\\'+'array'+str(j)+'.csv',index=0)\n",
    "print(len(count)) \n",
    "count = pd.DataFrame(count)\n",
    "count.to_csv(r'C:\\Users\\lenovo\\Desktop\\参考论文\\2016_flight\\loss_data\\\\loss_data'+str(j)+'.csv',index=0)"
   ]
  },
  {
   "cell_type": "code",
   "execution_count": 6,
   "metadata": {},
   "outputs": [
    {
     "name": "stdout",
     "output_type": "stream",
     "text": [
      "3907\n"
     ]
    }
   ],
   "source": [
    "d = ['TLV']\n",
    "for i in range(62):\n",
    "    a = pd.read_csv(r'C:\\Users\\lenovo\\Desktop\\参考论文\\2016_flight\\date2\\\\'+str(i)+'.csv', usecols=['city1'])\n",
    "    b = pd.read_csv(r'C:\\Users\\lenovo\\Desktop\\参考论文\\2016_flight\\date2\\\\'+str(i)+'.csv', usecols=['city2'])\n",
    "    c = np.vstack((a,b))\n",
    "    c = c.reshape((-1,1))\n",
    "    d = np.unique(np.vstack((d,c)))\n",
    "    d = d.reshape((-1,1))\n",
    "print(len(d)) "
   ]
  },
  {
   "cell_type": "code",
   "execution_count": null,
   "metadata": {},
   "outputs": [],
   "source": [
    "a = pd.read_csv(r'C:\\Users\\lenovo\\Desktop\\参考论文\\2016_flight\\date2\\\\'+str(1)+'.csv', usecols=['city1'])\n",
    "b = pd.read_csv(r'C:\\Users\\lenovo\\Desktop\\参考论文\\2016_flight\\date2\\\\'+str(1)+'.csv', usecols=['city2'])\n",
    "print(len(a))\n",
    "print(len(b))\n",
    "c = np.vstack((a,b))\n",
    "d = ['TLV']\n",
    "c = np.vstack((c,d))\n",
    "c = np.unique(c)\n",
    "print(len(c))"
   ]
  },
  {
   "cell_type": "code",
   "execution_count": 7,
   "metadata": {},
   "outputs": [
    {
     "name": "stdout",
     "output_type": "stream",
     "text": [
      "3907\n",
      "3907\n",
      "<class 'numpy.ndarray'>\n",
      "['AAA' 'AAE' 'AAK' ... 'ZVK' 'ZYI' 'ZYL']\n"
     ]
    }
   ],
   "source": [
    "print(len(d))\n",
    "data = np.unique(d)\n",
    "print(len(data))\n",
    "print(type(data))\n",
    "print(data)"
   ]
  },
  {
   "cell_type": "code",
   "execution_count": null,
   "metadata": {},
   "outputs": [],
   "source": [
    "a = np.array(['a','b','b','d','c'])\n",
    "a = a.reshape((-1,1))\n",
    "b  = np. array(['c','d','e','a','f'])\n",
    "b = b.reshape((-1,1))\n",
    "c = np.vstack((a, b))\n",
    "c  = np.unique(c)\n",
    "print(c) \n",
    "print(len(c))"
   ]
  },
  {
   "cell_type": "code",
   "execution_count": null,
   "metadata": {},
   "outputs": [],
   "source": [
    "print(len(d))"
   ]
  },
  {
   "cell_type": "code",
   "execution_count": null,
   "metadata": {},
   "outputs": [],
   "source": [
    "print(file)\n",
    "file2 = file.drop_duplicates(subset=['city1'],keep='first')"
   ]
  },
  {
   "cell_type": "code",
   "execution_count": null,
   "metadata": {},
   "outputs": [],
   "source": [
    "print(file2)"
   ]
  },
  {
   "cell_type": "code",
   "execution_count": null,
   "metadata": {},
   "outputs": [],
   "source": [
    "print(file2.iloc[0][0]) \n",
    "len(file2)"
   ]
  },
  {
   "cell_type": "code",
   "execution_count": 9,
   "metadata": {},
   "outputs": [
    {
     "name": "stdout",
     "output_type": "stream",
     "text": [
      "9145\n"
     ]
    }
   ],
   "source": [
    "file3 = pd.read_csv(r'C:\\Users\\lenovo\\Desktop\\airports.csv',usecols=[12,1,2,3,4,6,7,8])\n",
    "print(len(file3)) "
   ]
  },
  {
   "cell_type": "code",
   "execution_count": null,
   "metadata": {},
   "outputs": [],
   "source": [
    "data = file2.iloc[0][0]\n",
    "print(data)"
   ]
  },
  {
   "cell_type": "code",
   "execution_count": null,
   "metadata": {},
   "outputs": [],
   "source": [
    "data = []\n",
    "for i in range(len(file2)):\n",
    "    a = file2.iloc[i][0]\n",
    "    data.append(a)\n"
   ]
  },
  {
   "cell_type": "code",
   "execution_count": null,
   "metadata": {},
   "outputs": [],
   "source": [
    "print(data)"
   ]
  },
  {
   "cell_type": "code",
   "execution_count": null,
   "metadata": {},
   "outputs": [],
   "source": []
  },
  {
   "cell_type": "code",
   "execution_count": 10,
   "metadata": {},
   "outputs": [
    {
     "name": "stdout",
     "output_type": "stream",
     "text": [
      "3907\n"
     ]
    }
   ],
   "source": [
    "a = file3.loc[file3['iata_code'].isin(data)]\n",
    "print(len(data)) "
   ]
  },
  {
   "cell_type": "code",
   "execution_count": 11,
   "metadata": {},
   "outputs": [
    {
     "name": "stdout",
     "output_type": "stream",
     "text": [
      "3905\n"
     ]
    }
   ],
   "source": [
    "print(len(a)) "
   ]
  },
  {
   "cell_type": "code",
   "execution_count": 12,
   "metadata": {},
   "outputs": [],
   "source": [
    "a.to_csv(r'C:\\Users\\lenovo\\Desktop\\new_airports.csv',index=0)"
   ]
  },
  {
   "cell_type": "code",
   "execution_count": 2,
   "metadata": {},
   "outputs": [],
   "source": [
    "data = pd.read_csv(r'C:\\Users\\lenovo\\Desktop\\参考论文\\2016_flight\\array_data\\array0.csv')"
   ]
  },
  {
   "cell_type": "code",
   "execution_count": 12,
   "metadata": {},
   "outputs": [
    {
     "name": "stdout",
     "output_type": "stream",
     "text": [
      "<class 'numpy.ndarray'>\n",
      "[[1. 0. 0. ... 0. 0. 0.]\n",
      " [0. 0. 0. ... 0. 0. 0.]\n",
      " [0. 0. 0. ... 0. 0. 0.]\n",
      " ...\n",
      " [0. 0. 0. ... 0. 0. 0.]\n",
      " [0. 0. 0. ... 0. 0. 1.]\n",
      " [0. 0. 0. ... 0. 1. 0.]]\n"
     ]
    }
   ],
   "source": [
    "a  = data.values\n",
    "a[0][0] = -1 \n",
    "print(type(a))\n",
    "a = np.abs(a)\n",
    "L1_loss = []\n",
    "day_num = []\n",
    "print(a)"
   ]
  },
  {
   "cell_type": "code",
   "execution_count": 35,
   "metadata": {},
   "outputs": [],
   "source": [
    "day_num = []\n",
    "L1_loss = []\n",
    "cos_dist = []\n",
    "corr = []\n",
    "for i in range(61):\n",
    "    data1 = pd.read_csv(r'C:\\Users\\lenovo\\Desktop\\参考论文\\2016_flight\\array_data\\array' + str(i) + '.csv').values \n",
    "    data2 = pd.read_csv(r'C:\\Users\\lenovo\\Desktop\\参考论文\\2016_flight\\array_data\\array' + str(i+1) + '.csv').values \n",
    "    num1  = np.sum(data1)\n",
    "    num2  = np.sum(data2)\n",
    "    # 计算每一天的航空总数据\n",
    "    if i == 0:\n",
    "        day_num.append(num1)\n",
    "        day_num.append(num2)\n",
    "    else:\n",
    "        day_num.append(num2)\n",
    "    L1  = np.abs(data2 - data1)\n",
    "    # 计算l1_dist\n",
    "    L1_loss.append(np.sum(L1))\n",
    "    # 计算余弦度量\n",
    "    farr1 = data1.ravel()\n",
    "    farr2 = data2.ravel()\n",
    "    numer = np.sum(farr1 * farr2)\n",
    "    denom = np.sqrt(np.sum(farr1**2) * np.sum(farr2**2))\n",
    "    dist = numer/ denom \n",
    "    cos_dist.append(dist)\n",
    "    # 计算相关系数 \n",
    "    corr.append(np.corrcoef(farr1, farr2, rowvar=True)[0][1])"
   ]
  },
  {
   "cell_type": "code",
   "execution_count": 37,
   "metadata": {},
   "outputs": [
    {
     "name": "stdout",
     "output_type": "stream",
     "text": [
      "62\n",
      "[33878.0, 30723.0, 28550.0, 28548.0, 28505.0, 50891.0, 42469.0, 34426.0, 29704.0, 28393.0, 30187.0, 28647.0, 54503.0, 39854.0, 40750.0, 31512.0, 29633.0, 28912.0, 28197.0, 51359.0, 44271.0, 34108.0, 29789.0, 27325.0, 29198.0, 28780.0, 53007.0, 43723.0, 34552.0, 29622.0, 27371.0, 28059.0, 27852.0, 52109.0, 43349.0, 34071.0, 29263.0, 43463.0, 30244.0, 30127.0, 60012.0, 48916.0, 38370.0, 32336.0, 30521.0, 31162.0, 29818.0, 58397.0, 48298.0, 37615.0, 31873.0, 30110.0, 31199.0, 29786.0, 58252.0, 48561.0, 37427.0, 31190.0, 29512.0, 29668.0, 29188.0]\n",
      "[0.9896928332045586, 0.9929820604253988, 0.9936535822932375, 0.9937740241155704, 0.9940899360011536, 0.9756771419331194, 0.9831806741378188, 0.9893992114799145, 0.9933177495001528, 0.993576308284134, 0.9926518132583592, 0.9938685494986255, 0.9716658461056262, 0.9835466177860271, 0.9839386888921811, 0.9920885732579223, 0.9924740928716588, 0.9929977321211896, 0.993889860697821, 0.9741424974331252, 0.9810963182066025, 0.9884412028278312, 0.9929560076798177, 0.9938272957316663, 0.992993739570575, 0.9932615547830697, 0.9719721163803418, 0.9817993438280009, 0.9882259661652564, 0.9932330842883501, 0.9937416313176279, 0.9939291695770579, 0.9941593777510964, 0.974273197682941, 0.9820798247944085, 0.9885441210790947, 0.9933496049746775, 0.8925815266197682, 0.9949211127411522, 0.9950567170069697, 0.9678280437214646, 0.9749513645953798, 0.9897802274300682, 0.9937117062302494, 0.9942476411765401, 0.9945745608919265, 0.9949567461872769, 0.9671904059943963, 0.975135456884195, 0.9901113051392507, 0.9940109272766698, 0.9941400405105875, 0.9937767263899979, 0.99489347754027, 0.9668926961615643, 0.9745858869177698, 0.9901124088661987, 0.9941693629691535, 0.9945778121416227, 0.9947320966228274, 0.9950155434672578]\n",
      "[0.9896876203666172, 0.9929785493591886, 0.9936504110327189, 0.9937709021963071, 0.9940869653736714, 0.9756647446535215, 0.9831721006657466, 0.9893938489444122, 0.9933144019312505, 0.9935730939406511, 0.9926481206800187, 0.9938654599988876, 0.9716513820398458, 0.983538209759428, 0.9839305863769818, 0.9920846362803266, 0.992470355855058, 0.9929942406396496, 0.9938867967371916, 0.9741293564574299, 0.9810867616098219, 0.9884353948442284, 0.9929525051309546, 0.9938242316402333, 0.9929902522861358, 0.9932581915356006, 0.9719579492994128, 0.9817901559462413, 0.9882200625954712, 0.9932297361268975, 0.993738543515308, 0.9939261687654944, 0.9941564767553615, 0.974260230720106, 0.9820708250595394, 0.988538400324086, 0.993346339678052, 0.8925306891975164, 0.99491876910104, 0.9950544317539803, 0.9678126416873084, 0.9749396692689171, 0.9897754916668882, 0.9937088690348352, 0.9942450397015196, 0.9945720742691097, 0.9949544261800357, 0.9671748229314322, 0.9751239812914377, 0.9901067430981834, 0.994008237189301, 0.9941373998350499, 0.9937739052005563, 0.994891163438611, 0.9668771280934166, 0.9745741796273508, 0.990107857622406, 0.9941667352414147, 0.9945753632290808, 0.9947296958216055, 0.9950132699954509]\n"
     ]
    }
   ],
   "source": [
    "print(day_num)\n",
    "print(L1_loss)\n",
    "print(cos_dist)\n",
    "print(corr)"
   ]
  },
  {
   "cell_type": "code",
   "execution_count": 29,
   "metadata": {},
   "outputs": [],
   "source": [
    "farr1 = data1.ravel()\n",
    "farr2 = data2.ravel()"
   ]
  },
  {
   "cell_type": "code",
   "execution_count": 32,
   "metadata": {},
   "outputs": [
    {
     "data": {
      "text/plain": [
       "0.9940869653736714"
      ]
     },
     "execution_count": 32,
     "metadata": {},
     "output_type": "execute_result"
    }
   ],
   "source": [
    "np.corrcoef(farr1, farr2, rowvar=True)[0][1]"
   ]
  },
  {
   "cell_type": "code",
   "execution_count": 41,
   "metadata": {},
   "outputs": [],
   "source": [
    "dataframe1 = pd.DataFrame({'L1距离':L1_loss, '余弦距离':cos_dist, '皮尔逊相关性':corr})\n",
    "dataframe2 = pd.DataFrame({'日航空量':day_num}) "
   ]
  },
  {
   "cell_type": "code",
   "execution_count": 43,
   "metadata": {},
   "outputs": [],
   "source": [
    "dataframe1.to_csv(r'C:\\Users\\lenovo\\Desktop\\a.csv')\n",
    "dataframe2.to_csv(r'C:\\Users\\lenovo\\Desktop\\b.csv')"
   ]
  },
  {
   "cell_type": "code",
   "execution_count": 49,
   "metadata": {},
   "outputs": [
    {
     "data": {
      "text/plain": [
       "62"
      ]
     },
     "execution_count": 49,
     "metadata": {},
     "output_type": "execute_result"
    }
   ],
   "source": [
    "t = range(62)\n",
    "len(t) "
   ]
  },
  {
   "cell_type": "code",
   "execution_count": 51,
   "metadata": {},
   "outputs": [],
   "source": [
    "import matplotlib.pyplot as plt "
   ]
  },
  {
   "cell_type": "code",
   "execution_count": 52,
   "metadata": {},
   "outputs": [
    {
     "data": {
      "text/plain": [
       "<Figure size 1200x640 with 0 Axes>"
      ]
     },
     "metadata": {},
     "output_type": "display_data"
    }
   ],
   "source": [
    "fig = plt.figure(num=1, figsize=(15, 8),dpi=80)     #开启一个窗口，同时设置大小，分辨率"
   ]
  },
  {
   "cell_type": "code",
   "execution_count": 53,
   "metadata": {},
   "outputs": [
    {
     "name": "stdout",
     "output_type": "stream",
     "text": [
      "Figure(1200x640)\n"
     ]
    }
   ],
   "source": [
    "print(fig)"
   ]
  },
  {
   "cell_type": "code",
   "execution_count": 81,
   "metadata": {},
   "outputs": [
    {
     "data": {
      "image/png": "[encoded data removed]",
      "text/plain": [
       "<Figure size 1600x800 with 1 Axes>"
      ]
     },
     "metadata": {
      "needs_background": "light"
     },
     "output_type": "display_data"
    }
   ],
   "source": [
    "zhfont1 = matplotlib.font_manager.FontProperties(fname='C:\\Windows\\Fonts\\simkai.ttf')\n",
    "plt.figure(num=1, figsize=(20, 10),dpi=80)\n",
    "fig = plt.plot(t, day_num,color = 'red',linewidth = 3.0,linestyle = '--')\n",
    "#plt.savefig(r'C:\\Users\\lenovo\\Desktop\\参考论文\\2016_flight\\相关性_时间序列\\day_num.jpg') \n",
    "plt.xlabel('时间/天',fontproperties=zhfont1)#x轴上的名字\n",
    "plt.ylabel('日航空总量',fontproperties=zhfont1)#y轴上的名字\n",
    "plt.savefig(r'C:\\Users\\lenovo\\Desktop\\参考论文\\2016_flight\\相关性_时间序列\\day_num.jpg') "
   ]
  },
  {
   "cell_type": "code",
   "execution_count": 85,
   "metadata": {},
   "outputs": [
    {
     "data": {
      "image/png": "[encoded data removed]",
      "text/plain": [
       "<Figure size 1600x800 with 1 Axes>"
      ]
     },
     "metadata": {
      "needs_background": "light"
     },
     "output_type": "display_data"
    }
   ],
   "source": [
    "t =range(61)\n",
    "zhfont1 = matplotlib.font_manager.FontProperties(fname='C:\\Windows\\Fonts\\simkai.ttf')\n",
    "plt.figure(num=1, figsize=(20, 10),dpi=80)\n",
    "fig = plt.plot(t, corr,color = 'red',linewidth = 3.0,linestyle = '--')\n",
    "#plt.savefig(r'C:\\Users\\lenovo\\Desktop\\参考论文\\2016_flight\\相关性_时间序列\\day_num.jpg') \n",
    "plt.xlabel('时间/天',fontproperties=zhfont1)#x轴上的名字\n",
    "plt.ylabel('corr',fontproperties=zhfont1)#y轴上的名字\n",
    "plt.savefig(r'C:\\Users\\lenovo\\Desktop\\参考论文\\2016_flight\\相关性_时间序列\\corr.jpg') "
   ]
  },
  {
   "cell_type": "code",
   "execution_count": 166,
   "metadata": {},
   "outputs": [],
   "source": [
    "data1 = pd.read_csv(r'C:\\Users\\lenovo\\Desktop\\参考论文\\2016_flight\\array_data\\array0.csv').values"
   ]
  },
  {
   "cell_type": "code",
   "execution_count": 123,
   "metadata": {},
   "outputs": [
    {
     "name": "stdout",
     "output_type": "stream",
     "text": [
      "(3905, 3905)\n"
     ]
    }
   ],
   "source": [
    "print(np.shape(data1)) "
   ]
  },
  {
   "cell_type": "code",
   "execution_count": 155,
   "metadata": {},
   "outputs": [
    {
     "name": "stdout",
     "output_type": "stream",
     "text": [
      "['AE' 'AF' 'AG' 'AI' 'AL' 'AM' 'AO' 'AR' 'AS' 'AT' 'AU' 'AW' 'AZ' 'BA'\n",
      " 'BB' 'BD' 'BE' 'BF' 'BG' 'BH' 'BI' 'BJ' 'BL' 'BM' 'BN' 'BO' 'BQ' 'BR'\n",
      " 'BS' 'BT' 'BW' 'BY' 'BZ' 'CA' 'CC' 'CD' 'CF' 'CG' 'CH' 'CI' 'CK' 'CL'\n",
      " 'CM' 'CN' 'CO' 'CR' 'CU' 'CV' 'CW' 'CX' 'CY' 'CZ' 'DE' 'DJ' 'DK' 'DM'\n",
      " 'DO' 'DZ' 'EC' 'EE' 'EG' 'EH' 'ER' 'ES' 'ET' 'FI' 'FJ' 'FK' 'FM' 'FO'\n",
      " 'FR' 'GA' 'GB' 'GD' 'GE' 'GF' 'GG' 'GH' 'GI' 'GL' 'GM' 'GN' 'GP' 'GQ'\n",
      " 'GR' 'GT' 'GU' 'GW' 'GY' 'HK' 'HN' 'HR' 'HT' 'HU' 'ID' 'IE' 'IL' 'IM'\n",
      " 'IN' 'IQ' 'IR' 'IS' 'IT' 'JE' 'JM' 'JO' 'JP' 'KE' 'KG' 'KH' 'KI' 'KM'\n",
      " 'KN' 'KP' 'KR' 'KW' 'KY' 'KZ' 'LA' 'LB' 'LC' 'LK' 'LR' 'LS' 'LT' 'LU'\n",
      " 'LV' 'LY' 'MA' 'MC' 'MD' 'ME' 'MF' 'MG' 'MH' 'MK' 'ML' 'MM' 'MN' 'MO'\n",
      " 'MP' 'MQ' 'MR' 'MS' 'MT' 'MU' 'MV' 'MW' 'MX' 'MY' 'MZ' 'NC' 'NE' 'NF'\n",
      " 'NG' 'NI' 'NL' 'NO' 'NP' 'NR' 'NU' 'NZ' 'OM' 'PA' 'PE' 'PF' 'PG' 'PH'\n",
      " 'PK' 'PL' 'PM' 'PR' 'PT' 'PW' 'PY' 'QA' 'RE' 'RO' 'RS' 'RU' 'RW' 'SA'\n",
      " 'SB' 'SC' 'SD' 'SE' 'SG' 'SI' 'SK' 'SL' 'SN' 'SO' 'SR' 'SS' 'ST' 'SV'\n",
      " 'SX' 'SY' 'SZ' 'TC' 'TD' 'TG' 'TH' 'TJ' 'TL' 'TM' 'TN' 'TO' 'TR' 'TT'\n",
      " 'TV' 'TW' 'TZ' 'UA' 'UG' 'US' 'UY' 'UZ' 'VC' 'VE' 'VG' 'VI' 'VN' 'VU'\n",
      " 'WF' 'WS' 'XK' 'YE' 'YT' 'ZA' 'ZM' 'ZW' 'ZZUN']\n"
     ]
    }
   ],
   "source": [
    "country = pd.read_csv(r'C:\\Users\\lenovo\\Desktop\\参考论文\\2016_flight\\new_airports.csv',usecols=[1,5]) \n",
    "name = pd.read_csv(r'C:\\Users\\lenovo\\Desktop\\参考论文\\2016_flight\\new_airports.csv', usecols=['iso_country'])\n",
    "name = np.unique(name)\n",
    "print(name)"
   ]
  },
  {
   "cell_type": "code",
   "execution_count": 125,
   "metadata": {},
   "outputs": [
    {
     "name": "stdout",
     "output_type": "stream",
     "text": [
      "                                             name iso_country\n",
      "0                         Jebel Ali Seaplane Base          AE\n",
      "1                        Yas Island Seaplane Base          AE\n",
      "2                                 Dubai Creek SPB          AE\n",
      "3                 Abu Dhabi International Airport          AE\n",
      "4                    Al Ain International Airport          AE\n",
      "5                     Dubai International Airport          AE\n",
      "6                Al Maktoum International Airport          AE\n",
      "7            Ras Al Khaimah International Airport          AE\n",
      "8                   Sharjah International Airport          AE\n",
      "9           Ras al Khaimah Al Hamra Seaplane Base          AE\n",
      "10                                Bamiyan Airport          AF\n",
      "11                                   Bost Airport          AF\n",
      "12                             Chakcharan Airport          AF\n",
      "13                                  Farah Airport          AF\n",
      "14                               Fayzabad Airport          AF\n",
      "15                                  Herat Airport          AF\n",
      "16             Hamid Karzai International Airport          AF\n",
      "17                               Kandahar Airport          AF\n",
      "18                         Mazar I Sharif Airport          AF\n",
      "19                             Tarin Kowt Airport          AF\n",
      "20                                 Zaranj Airport          AF\n",
      "21                V.C. Bird International Airport          AG\n",
      "22                             Codrington Airport          AG\n",
      "23          Clayton J Lloyd International Airport          AI\n",
      "24     Tirana International Airport Mother Teresa          AL\n",
      "25                Zvartnots International Airport          AM\n",
      "26                                Cabinda Airport          AO\n",
      "27                              Catumbela Airport          AO\n",
      "28                         Ngjiva Pereira Airport          AO\n",
      "29                            Nova Lisboa Airport          AO\n",
      "...                                           ...         ...\n",
      "3875              Polokwane International Airport          ZA\n",
      "3876                         Richards Bay Airport          ZA\n",
      "3877                               Sishen Airport          ZA\n",
      "3878                              Skukuza Airport          ZA\n",
      "3879          Prince Mangosuthu Buthelezi Airport          ZA\n",
      "3880                  Pierre Van Ryneveld Airport          ZA\n",
      "3881                      K. D. Matanzima Airport          ZA\n",
      "3882                           Wonderboom Airport          ZA\n",
      "3883                      O R Tambo International          ZA\n",
      "3884                              Ulusaba Airport          ZA\n",
      "3885                                 Jeki Airport          ZM\n",
      "3886                               Kasama Airport          ZM\n",
      "3887  Harry Mwanga Nkumbula International Airport          ZM\n",
      "3888         Kenneth Kaunda International Airport          ZM\n",
      "3889                                Mfuwe Airport          ZM\n",
      "3890  Simon Mwansa Kapwepwe International Airport          ZM\n",
      "3891                 Royal Zambesi Lodge Airstrip          ZM\n",
      "3892                              Solwesi Airport          ZM\n",
      "3893   Joshua Mqabuko Nkomo International Airport          ZW\n",
      "3894         Victoria Falls International Airport          ZW\n",
      "3895  Robert Gabriel Mugabe International Airport          ZW\n",
      "3896                 Kariba International Airport          ZW\n",
      "3897                        Katima Mulilo Airport        ZZUN\n",
      "3898                             Luderitz Airport        ZZUN\n",
      "3899                             Ondangwa Airport        ZZUN\n",
      "3900                           Oranjemund Airport        ZZUN\n",
      "3901                                Rundu Airport        ZZUN\n",
      "3902                           Walvis Bay Airport        ZZUN\n",
      "3903                                 Eros Airport        ZZUN\n",
      "3904           Hosea Kutako International Airport        ZZUN\n",
      "\n",
      "[3905 rows x 2 columns]\n"
     ]
    }
   ],
   "source": [
    "print(country)"
   ]
  },
  {
   "cell_type": "code",
   "execution_count": 172,
   "metadata": {},
   "outputs": [
    {
     "name": "stdout",
     "output_type": "stream",
     "text": [
      "0\n",
      "(233, 233)\n",
      "1\n",
      "(233, 233)\n",
      "2\n",
      "(233, 233)\n",
      "3\n",
      "(233, 233)\n",
      "4\n",
      "(233, 233)\n",
      "5\n",
      "(233, 233)\n",
      "6\n",
      "(233, 233)\n",
      "7\n",
      "(233, 233)\n",
      "8\n",
      "(233, 233)\n",
      "9\n",
      "(233, 233)\n",
      "10\n",
      "(233, 233)\n",
      "11\n",
      "(233, 233)\n",
      "12\n",
      "(233, 233)\n",
      "13\n",
      "(233, 233)\n",
      "14\n",
      "(233, 233)\n",
      "15\n",
      "(233, 233)\n",
      "16\n",
      "(233, 233)\n",
      "17\n",
      "(233, 233)\n",
      "18\n",
      "(233, 233)\n",
      "19\n",
      "(233, 233)\n",
      "20\n",
      "(233, 233)\n",
      "21\n",
      "(233, 233)\n",
      "22\n",
      "(233, 233)\n",
      "23\n",
      "(233, 233)\n",
      "24\n",
      "(233, 233)\n",
      "25\n",
      "(233, 233)\n",
      "26\n",
      "(233, 233)\n",
      "27\n",
      "(233, 233)\n",
      "28\n",
      "(233, 233)\n",
      "29\n",
      "(233, 233)\n",
      "30\n",
      "(233, 233)\n",
      "31\n",
      "(233, 233)\n",
      "32\n",
      "(233, 233)\n",
      "33\n",
      "(233, 233)\n",
      "34\n",
      "(233, 233)\n",
      "35\n",
      "(233, 233)\n",
      "36\n",
      "(233, 233)\n",
      "37\n",
      "(233, 233)\n",
      "38\n",
      "(233, 233)\n",
      "39\n",
      "(233, 233)\n",
      "40\n",
      "(233, 233)\n",
      "41\n",
      "(233, 233)\n",
      "42\n",
      "(233, 233)\n",
      "43\n",
      "(233, 233)\n",
      "44\n",
      "(233, 233)\n",
      "45\n",
      "(233, 233)\n",
      "46\n",
      "(233, 233)\n",
      "47\n",
      "(233, 233)\n",
      "48\n",
      "(233, 233)\n",
      "49\n",
      "(233, 233)\n",
      "50\n",
      "(233, 233)\n",
      "51\n",
      "(233, 233)\n",
      "52\n",
      "(233, 233)\n",
      "53\n",
      "(233, 233)\n",
      "54\n",
      "(233, 233)\n",
      "55\n",
      "(233, 233)\n",
      "56\n",
      "(233, 233)\n",
      "57\n",
      "(233, 233)\n",
      "58\n",
      "(233, 233)\n",
      "59\n",
      "(233, 233)\n",
      "60\n",
      "(233, 233)\n",
      "61\n",
      "(233, 233)\n"
     ]
    }
   ],
   "source": [
    "country = pd.read_csv(r'C:\\Users\\lenovo\\Desktop\\参考论文\\2016_flight\\new_airports.csv',usecols=[1,5]) \n",
    "name = pd.read_csv(r'C:\\Users\\lenovo\\Desktop\\参考论文\\2016_flight\\new_airports.csv', usecols=['iso_country'])\n",
    "name = np.unique(name)\n",
    "group = country.groupby('iso_country')\n",
    "number = group.size().values\n",
    "for j in range(62):\n",
    "    print(j)\n",
    "    data1 = pd.read_csv(r'C:\\Users\\lenovo\\Desktop\\参考论文\\2016_flight\\array_data\\\\'+'array'+str(j)+'.csv').values\n",
    "    count = 0 \n",
    "    for i in range(len(number)):\n",
    "        if number[i] == 1 :\n",
    "            count += number[i]\n",
    "            continue;\n",
    "        if i == 0:\n",
    "            data1[:][0] += sum(data1[:][1:number[i]])\n",
    "            data1[0][:] += sum(data1[1:number[i]][:])\n",
    "        else:\n",
    "            data1[:][count] += sum(data1[:][count+1:count+number[i]])\n",
    "            data1[count][:] += sum(data1[count+1:count+number[i]][:])\n",
    "        count += number[i]\n",
    "\n",
    "    count = 0 \n",
    "    a = []\n",
    "    for i in range(len(number)):\n",
    "        if number[i] == 1 :\n",
    "            count += number[i]\n",
    "            continue; \n",
    "        a += list(range(count+1,count+number[i]))\n",
    "        count += number[i] \n",
    "    data = np.delete(data1, a, axis=1)\n",
    "    data = np.delete(data, a, axis=0)\n",
    "    print(np.shape(data))\n",
    "    data = pd.DataFrame(data ,columns = name)\n",
    "    data.to_csv(r'C:\\Users\\lenovo\\Desktop\\参考论文\\2016_flight\\country_array\\\\'+'array'+str(j)+'.csv',index=0)\n",
    "    del a,data,data1 \n",
    "\n",
    "\n"
   ]
  },
  {
   "cell_type": "code",
   "execution_count": 171,
   "metadata": {},
   "outputs": [
    {
     "name": "stdout",
     "output_type": "stream",
     "text": [
      "C:\\Users\\lenovo\\Desktop\\参考论文\\2016_flight\\array_data\\\\array0csv\n"
     ]
    }
   ],
   "source": []
  },
  {
   "cell_type": "code",
   "execution_count": 152,
   "metadata": {},
   "outputs": [
    {
     "name": "stdout",
     "output_type": "stream",
     "text": [
      "(233, 233)\n"
     ]
    }
   ],
   "source": [
    "a1 = np.delete(data1, a, axis=1)\n",
    "b1 = np.delete(a1,a, axis = 0 )\n",
    "print(np.shape(b1))"
   ]
  },
  {
   "cell_type": "code",
   "execution_count": 82,
   "metadata": {},
   "outputs": [
    {
     "name": "stdout",
     "output_type": "stream",
     "text": [
      "[[1 3]\n",
      " [3 5]\n",
      " [4 6]]\n"
     ]
    }
   ],
   "source": [
    "a = np.array([[1,2,3],[3,4,5],[4,5,6]])\n",
    "a = np.delete(a, 1, axis = 1 )\n",
    "print(a)"
   ]
  },
  {
   "cell_type": "code",
   "execution_count": 110,
   "metadata": {},
   "outputs": [
    {
     "data": {
      "text/plain": [
       "[1, 2, 3]"
      ]
     },
     "execution_count": 110,
     "metadata": {},
     "output_type": "execute_result"
    }
   ],
   "source": [
    "a = [1,2,3]"
   ]
  },
  {
   "cell_type": "code",
   "execution_count": 114,
   "metadata": {},
   "outputs": [
    {
     "data": {
      "text/plain": [
       "3905"
      ]
     },
     "execution_count": 114,
     "metadata": {},
     "output_type": "execute_result"
    }
   ],
   "source": [
    "file1 = pd.read_csv(r'C:\\Users\\lenovo\\Desktop\\code.csv', usecols=['iata_code'])\n",
    "len(file1)"
   ]
  },
  {
   "cell_type": "code",
   "execution_count": 118,
   "metadata": {},
   "outputs": [],
   "source": [
    "count = pd.DataFrame(count)\n",
    "count.to_csv(r'C:\\Users\\lenovo\\Desktop\\参考论文\\2016_flight\\loss_data\\\\loss_data'+str(j)+'.csv',index=0)"
   ]
  },
  {
   "cell_type": "code",
   "execution_count": null,
   "metadata": {},
   "outputs": [],
   "source": []
  }
 ],
 "metadata": {
  "kernelspec": {
   "display_name": "Python 3",
   "language": "python",
   "name": "python3"
  },
  "language_info": {
   "codemirror_mode": {
    "name": "ipython",
    "version": 3
   },
   "file_extension": ".py",
   "mimetype": "text/x-python",
   "name": "python",
   "nbconvert_exporter": "python",
   "pygments_lexer": "ipython3",
   "version": "3.7.3"
  }
 },
 "nbformat": 4,
 "nbformat_minor": 2
}
