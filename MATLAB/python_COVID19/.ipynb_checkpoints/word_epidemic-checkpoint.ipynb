{
 "cells": [
  {
   "cell_type": "code",
   "execution_count": 1,
   "metadata": {},
   "outputs": [],
   "source": [
    "from pyecharts.charts import Map\n",
    "from pyecharts import options as opts\n",
    "import xlrd\n",
    "from scipy.io import loadmat "
   ]
  },
  {
   "cell_type": "code",
   "execution_count": 2,
   "metadata": {},
   "outputs": [],
   "source": [
    "confirmedCount =[]\n",
    "countrys_names = []"
   ]
  },
  {
   "cell_type": "code",
   "execution_count": 3,
   "metadata": {},
   "outputs": [],
   "source": [
    "file = xlrd.open_workbook(r'F:\\项目\\新冠肺炎\\参考论文\\2016_flight\\newdata\\Periodic\\ToHou\\country_info.xlsx')"
   ]
  },
  {
   "cell_type": "code",
   "execution_count": 4,
   "metadata": {},
   "outputs": [
    {
     "name": "stdout",
     "output_type": "stream",
     "text": [
      "['United Arab Emirates', 'Afghanistan', 'Antigua And Barbuda', 'Anguilla', 'Albania', 'Armenia', 'Angola', 'Argentina', 'American Samoa', 'Austria', 'Australia', 'Aruba', 'Azerbaijan', 'Bosnia and Herz.', 'Barbados', 'Bangladesh', 'Belgium', 'Burkina Faso', 'Bulgaria', 'Bahrain', 'Burundi', 'Benin', 'Saint Barthélemy', 'Bermuda', 'Brunei Darussalam', 'Bolivia', 'Bonaire', 'Brazil', 'Bahamas', 'Bhutan', 'Botswana', 'Belarus', 'Belize', 'Canada', 'Cocos Island', 'Dem. Rep. Congo', 'Central African Rep.', 'Congo', 'Switzerland', \"Côte d'Ivoire\", 'Cook Islands', 'Chile', 'Cameroon', 'China', 'Colombia', 'Costa Rica', 'Cuba', 'Cabo Verde', 'Curacao', 'Christmas Island', 'Cyprus', 'Czech Rep.', 'Germany', 'Djibouti', 'Denmark', 'Dominican', 'Dominican ', 'Algeria', 'Ecuador', 'Estonia', 'Egypt', 'W. Sahara', 'Eritrea', 'Spain', 'Ethiopia', 'Finland', 'Fiji', 'Falkland Island', 'Micronesia (Federated States of)', 'Faroe Islands', 'France', 'Gabon', 'United Kingdom', 'Grenada', 'Georgia', 'French Guiana', 'Guernsey', 'Ghana', 'Gibraltar', 'Greenland', 'Gambia', 'Guinea', 'Guadeloupe', 'Equatorial Guinea', 'Greece', 'Guatemala', 'Guam', 'Guinea-bissau', 'Guyana', 'Hong Kong SAR, China', 'Honduras', 'Croatia', 'Haiti', 'Hungary', 'Indonesia', 'Ireland', 'Israel', 'Isle of Man', 'India', 'Iraq', 'Iran', 'Iceland', 'Italy', 'Jersey', 'Jamaica', 'Jordan', 'Japan', 'Japan(Tokyo)', 'Kenya', 'Kyrgyzstan', 'Cambodia', 'Kiribati', 'Comoros', 'Saint Kitts And Nevis', 'Dem.Rep.Korea', 'Korea', 'Kuwait', 'Cayman Islands', 'Kazakhstan', 'Lao PDR', 'Lebanon', 'Saint Lucia', 'Sri Lanka', 'Liberia', 'Lesotho', 'Lithuania', 'Luxembourg', 'Latvia', 'Libya', 'Morocco', 'Monaco', 'Moldova', 'Montenegro', 'Saint Martin', 'Madagascar', 'Marshall Islands', 'Macedonia ', 'Mali', 'Myanmar', 'Mongolia', 'Macao SAR, China', 'Northern Mariana Islands', 'Martinique', 'Mauritania', 'Montserrat', 'Malta', 'Mauritius', 'Maldives', 'Malawi', 'Mexico', 'Malaysia', 'Mozambique', 'Namibia', 'Niger', 'Norfolk Island', 'Nigeria', 'Nicaragua', 'Netherlands', 'Norway', 'Nepal', 'Nauru', 'Niue', 'New Zealand', 'Oman', 'Panama', 'Peru', 'French Polynesia', 'Papua New Guinea', 'Philippines', 'Pakistan', 'Poland', 'Saint Pierre and Miquelon', 'Puerto Rico', 'Portugal', 'Palau', 'Paraguay', 'Qatar', 'Réunion', 'Romania', 'Serbia', 'Russia', 'Rwanda', 'Saudi Arabia', 'Solomon Islands', 'Seychelles', 'Sudan', 'Sweden', 'Singapore', 'Saint Helena, AscensiFon and Tristan da Cunha', 'Slovenia', 'Slovakia', 'Sierra Leone', 'Senegal', 'Somalia', 'Suriname', 'S. Sudan', 'Sao Tome and Principe', 'El Salvador', 'Sint Maarten', 'Syrian', 'Swaziland', 'Turks and Caicos Islands', 'Chad', 'Togo', 'Thailand', 'Tajikistan', 'Timor-Leste, Democratic Republic of', 'Turkmenistan', 'Tunisia', 'Tonga', 'Turkey', 'Trinidad And Tobago', 'Tuvalu', 'Taiwan', 'Tanzania', 'Ukraine', 'Uganda', 'United States', 'Uruguay', 'Uzbekistan', 'Saint Vincent And The Grenadines', 'Venezuela', 'Virgin Islands', 'Virgin Islands', 'Vietnam', 'Vanuatu', 'Wallis and Futuna', 'Samoa', 'Kosovo', 'Yemen', 'Mayotte', 'South Africa', 'Zambia', 'Zimbabwe']\n"
     ]
    }
   ],
   "source": [
    "allSheetNames = file.sheet_names();\n",
    "summary= file.sheet_by_index(0);\n",
    "countrys_names = summary.col_values(0)[1:235]\n",
    "print(countrys_names)"
   ]
  },
  {
   "cell_type": "code",
   "execution_count": 30,
   "metadata": {},
   "outputs": [
    {
     "name": "stdout",
     "output_type": "stream",
     "text": [
      "(382, 234)\n",
      "[9.73947954e+01 4.62157230e-01 7.49031276e-01 2.79197381e-02\n",
      " 3.56068261e-01 1.19851878e+00 1.52874577e+00 1.91307185e+00\n",
      " 1.37779127e-01 4.62256923e+01 1.84789803e+02 9.47773502e-01\n",
      " 2.42776144e+00 5.80846062e-01 1.36185528e+00 1.11420741e+01\n",
      " 4.54758575e+01 2.60680270e-01 2.42324837e+00 2.17011040e+00\n",
      " 1.01073596e-01 2.13608384e-01 4.70078474e-02 2.28902078e-01\n",
      " 4.39278029e+01 5.15181565e-01 1.72160342e-01 2.58111902e+01\n",
      " 1.00713889e+00 2.32409765e-01 1.33693136e-02 3.26378634e-01\n",
      " 9.16728284e-01 2.30682630e+02 7.16065164e-03 3.02490076e-01\n",
      " 5.57824537e-02 2.54836457e-01 3.80282302e+01 1.79442570e+00\n",
      " 4.97868260e-01 1.55370032e+00 9.09835989e-01 2.35976714e+03\n",
      " 1.10275489e+01 6.90550326e+00 1.10882036e+01 9.80389066e-01\n",
      " 9.43829024e-01 2.52376785e-02 1.36781047e+00 3.97875186e+00\n",
      " 2.32322627e+02 1.38721557e+00 2.65366261e+01 1.24836521e-01\n",
      " 1.39198873e+01 2.07013111e+00 3.37392759e+00 1.09121737e+00\n",
      " 1.31555700e+01 1.20412326e-02 3.44907216e-01 5.65071366e+01\n",
      " 5.30951328e+01 8.21788212e+01 7.54865101e+01 1.53916875e-05\n",
      " 2.71752891e+01 9.18060916e-02 1.91596366e+02 3.80900537e-01\n",
      " 2.04506226e+02 3.32688878e-01 1.24232589e+00 4.45053457e-01\n",
      " 1.01135086e-01 5.59000319e+00 5.37585033e-02 5.99689725e-02\n",
      " 2.09456087e-01 6.28122546e-01 1.14107941e+00 3.59560592e-02\n",
      " 9.43730729e+00 4.39714985e+00 2.39109135e+02 9.93959589e-03\n",
      " 1.12495268e+00 2.43082027e+03 1.59367635e+00 2.70827590e+00\n",
      " 2.25727577e+00 3.37473750e+00 1.74139594e+03 8.28890600e+00\n",
      " 9.74803488e+00 1.05590235e-01 8.77609710e+02 4.91995670e+00\n",
      " 4.18042265e+00 1.21143331e+00 9.30744890e+01 2.14172875e-01\n",
      " 9.50682669e+00 8.39622459e+00 1.35095957e+04 0.00000000e+00\n",
      " 3.00022249e+01 3.96272712e-01 2.42640418e+02 2.94950057e-01\n",
      " 4.37665186e-02 4.25964615e-01 1.53277715e-02 1.56984352e+03\n",
      " 8.45285721e+00 7.22372630e-01 4.89288070e+00 1.19218002e+01\n",
      " 4.11178220e+00 7.51590649e-01 1.12991492e+02 5.70694475e-03\n",
      " 4.01559287e-04 8.17823666e-01 5.00031906e-01 1.12905860e+00\n",
      " 4.17330304e-02 5.21539321e+00 2.79460185e-02 2.66789772e-01\n",
      " 3.08094127e-01 2.24105236e-02 8.18812507e-01 1.04470359e+00\n",
      " 5.16996977e-01 2.49036769e-01 1.82163612e+02 2.37650067e+01\n",
      " 6.86195614e+01 1.74565154e+01 1.01934894e+00 9.04393130e-02\n",
      " 1.55952141e-02 6.71363579e-01 2.23716886e+01 6.60267623e+01\n",
      " 2.04706647e-02 3.53575054e+02 1.54124991e+03 1.44716987e+00\n",
      " 2.58141332e+00 8.11843878e-02 6.24331493e-03 8.77791741e+00\n",
      " 5.24482574e-01 6.85528902e+01 5.87910736e+00 1.67604820e+01\n",
      " 1.46328491e-01 4.69408734e-02 6.04463022e+01 3.90796823e+01\n",
      " 8.26875545e+00 5.98302812e+00 7.44316367e+01 2.27827608e+01\n",
      " 2.90719345e+03 9.89878881e+00 3.37465209e+01 1.27027388e-02\n",
      " 1.13629125e+01 7.99529821e+00 1.42964871e+01 2.84466167e-02\n",
      " 4.11248067e+01 5.04516333e+00 3.38471127e+00 2.45517986e+00\n",
      " 1.16322992e+02 2.91265581e+00 1.04813598e+01 4.24903091e-01\n",
      " 2.92769409e+00 3.75388283e+00 1.37458227e+01 1.34823214e+03\n",
      " 4.71663841e-04 6.75127339e-01 3.01368204e-01 5.18489525e-01\n",
      " 2.19182876e+00 7.85782180e-01 5.74012933e-01 2.11964195e-01\n",
      " 5.12533517e-03 3.28102842e+00 3.30442150e-01 5.01185655e-01\n",
      " 1.47755279e-07 4.74542472e-01 4.36997231e-02 3.21858946e-01\n",
      " 5.63688415e+03 1.60596421e-01 3.70861470e-01 4.35620942e-01\n",
      " 3.32096892e+00 1.29230708e+00 6.31356153e+01 3.57781329e+00\n",
      " 2.01106584e-01 9.66426335e+02 7.71000763e+00 3.01995475e+00\n",
      " 9.53077425e+00 1.86511351e+03 2.35820630e-01 6.55258576e+00\n",
      " 1.75577588e-01 1.70525060e+00 1.53468052e-01 1.14846367e+00\n",
      " 2.35238721e+03 1.32896857e+00 1.82385193e-01 3.52712447e+00\n",
      " 3.25737834e-01 5.56009119e-03 1.57447229e-01 2.14173184e+01\n",
      " 9.89729534e-01 4.32693698e-02]\n"
     ]
    }
   ],
   "source": [
    "data = loadmat('./result_control.mat')\n",
    "data_confirm = data['I_result']\n",
    "print(data_confirm.shape) \n",
    "confirmedCount = data_confirm[18+ 12*30][:]\n",
    "print(confirmedCount)"
   ]
  },
  {
   "cell_type": "code",
   "execution_count": 37,
   "metadata": {
    "scrolled": true
   },
   "outputs": [
    {
     "name": "stderr",
     "output_type": "stream",
     "text": [
      "E:\\Anaconda3\\lib\\site-packages\\pyecharts\\charts\\chart.py:14: PendingDeprecationWarning: pyecharts 所有图表类型将在 v1.9.0 版本开始强制使用 ChartItem 进行数据项配置 :)\n",
      "  super().__init__(init_opts=init_opts)\n"
     ]
    },
    {
     "data": {
      "text/plain": [
       "'F:\\\\jupyter\\\\python_COVID19\\\\map_2.html'"
      ]
     },
     "execution_count": 37,
     "metadata": {},
     "output_type": "execute_result"
    }
   ],
   "source": [
    "map = Map(init_opts=opts.InitOpts(width=\"1670px\", height=\"815px\", bg_color=\"#d0effa\", page_title=\"Two months later\"))\n",
    "map.add(\"\",[list(z) for z in zip(countrys_names, confirmedCount)],is_map_symbol_show=False,\n",
    "            maptype=\"world\",label_opts=opts.LabelOpts(is_show=False),itemstyle_opts=opts.ItemStyleOpts(color=\"rgb(98,121,146)\"))#地图区域颜色\n",
    "map.set_global_opts(title_opts = opts.TitleOpts(title=''),legend_opts=opts.LegendOpts(padding=\"10px\"),\n",
    "                     visualmap_opts=opts.VisualMapOpts(max_=10000000, is_piecewise=True,\n",
    "                                      pieces=[\n",
    "                                        {\"max\": 99999999, \"min\": 10000000, \"label\": \">10000000\", \"color\": \"#990033\"},\n",
    "                                        {\"max\": 9999999, \"min\": 1000000, \"label\": \"1000000-9999999\", \"color\": \"#CC3333\"},\n",
    "                                        {\"max\": 999999, \"min\": 100000, \"label\": \"100000-999999\", \"color\": \"#CC6666\"},\n",
    "                                        {\"max\": 99999, \"min\": 10000, \"label\": \"10000-99999\", \"color\": \"#FF6666\"},\n",
    "                                        {\"max\": 9999, \"min\": 100, \"label\": \"100-9999\", \"color\": \"#FF9999\"},\n",
    "                                        {\"max\": 99, \"min\": 1, \"label\": \"1-99\", \"color\": \"#FFCCCC\"},\n",
    "                                        {\"max\": 1, \"min\": 0, \"label\": \"0\", \"color\": \"white\"},\n",
    "                                        ],item_height=20, item_width=40, textstyle_opts=opts.TextStyleOpts(font_size=20), \n",
    "                                                       pos_left = '13%', pos_bottom = '10%'))\n",
    "                    \n",
    "map.render('map_2.html')\n"
   ]
  },
  {
   "cell_type": "code",
   "execution_count": 31,
   "metadata": {},
   "outputs": [
    {
     "name": "stderr",
     "output_type": "stream",
     "text": [
      "E:\\Anaconda3\\lib\\site-packages\\pyecharts\\charts\\chart.py:14: PendingDeprecationWarning: pyecharts 所有图表类型将在 v1.9.0 版本开始强制使用 ChartItem 进行数据项配置 :)\n",
      "  super().__init__(init_opts=init_opts)\n"
     ]
    },
    {
     "data": {
      "text/plain": [
       "'F:\\\\jupyter\\\\python_COVID19\\\\map_12.html'"
      ]
     },
     "execution_count": 31,
     "metadata": {},
     "output_type": "execute_result"
    }
   ],
   "source": [
    "map = Map(init_opts=opts.InitOpts(width=\"1670px\", height=\"815px\", bg_color=\"#d0effa\", page_title=\"Twelve months later\"))\n",
    "map.add(\"\",[list(z) for z in zip(countrys_names, confirmedCount)],is_map_symbol_show=False,\n",
    "            maptype=\"world\",label_opts=opts.LabelOpts(is_show=False),itemstyle_opts=opts.ItemStyleOpts(color=\"rgb(98,121,146)\"))#地图区域颜色\n",
    "map.set_global_opts(title_opts = opts.TitleOpts(title=''),legend_opts=opts.LegendOpts(padding=\"10px\"),\n",
    "                     visualmap_opts=opts.VisualMapOpts(max_=10000000, is_piecewise=True,is_show = False,\n",
    "                                      pieces=[\n",
    "                                        {\"max\": 99999999, \"min\": 10000000, \"label\": \">10000000\", \"color\": \"#990033\"},\n",
    "                                        {\"max\": 9999999, \"min\": 1000000, \"label\": \"1000000-9999999\", \"color\": \"#CC3333\"},\n",
    "                                        {\"max\": 999999, \"min\": 100000, \"label\": \"100000-999999\", \"color\": \"#CC6666\"},\n",
    "                                        {\"max\": 99999, \"min\": 10000, \"label\": \"10000-99999\", \"color\": \"#FF6666\"},\n",
    "                                        {\"max\": 9999, \"min\": 100, \"label\": \"100-9999\", \"color\": \"#FF9999\"},\n",
    "                                        {\"max\": 99, \"min\": 1, \"label\": \"1-99\", \"color\": \"#FFCCCC\"},\n",
    "                                        {\"max\": 1, \"min\": 0, \"label\": \"0\", \"color\": \"white\"},\n",
    "                                        ],item_height=20, item_width=40, textstyle_opts=opts.TextStyleOpts(font_size=20), \n",
    "                                                       pos_left = 0, pos_bottom = '10%'))\n",
    "map.render('map_12.html')"
   ]
  },
  {
   "cell_type": "code",
   "execution_count": 29,
   "metadata": {},
   "outputs": [
    {
     "name": "stderr",
     "output_type": "stream",
     "text": [
      "E:\\Anaconda3\\lib\\importlib\\_bootstrap.py:219: RuntimeWarning: numpy.ufunc size changed, may indicate binary incompatibility. Expected 192 from C header, got 216 from PyObject\n",
      "  return f(*args, **kwds)\n",
      "E:\\Anaconda3\\lib\\importlib\\_bootstrap.py:219: RuntimeWarning: numpy.ufunc size changed, may indicate binary incompatibility. Expected 192 from C header, got 216 from PyObject\n",
      "  return f(*args, **kwds)\n",
      "E:\\Anaconda3\\lib\\importlib\\_bootstrap.py:219: RuntimeWarning: numpy.ufunc size changed, may indicate binary incompatibility. Expected 192 from C header, got 216 from PyObject\n",
      "  return f(*args, **kwds)\n"
     ]
    }
   ],
   "source": [
    "import seaborn as sns\n",
    "import matplotlib.pyplot as plt "
   ]
  },
  {
   "cell_type": "code",
   "execution_count": 32,
   "metadata": {},
   "outputs": [
    {
     "name": "stderr",
     "output_type": "stream",
     "text": [
      "E:\\Anaconda3\\lib\\site-packages\\pyecharts\\charts\\chart.py:14: PendingDeprecationWarning: pyecharts 所有图表类型将在 v1.9.0 版本开始强制使用 ChartItem 进行数据项配置 :)\n",
      "  super().__init__(init_opts=init_opts)\n"
     ]
    },
    {
     "data": {
      "text/plain": [
       "'F:\\\\jupyter\\\\python_COVID19\\\\map_12.html'"
      ]
     },
     "execution_count": 32,
     "metadata": {},
     "output_type": "execute_result"
    }
   ],
   "source": [
    "map = Map(init_opts=opts.InitOpts(width=\"1670px\", height=\"815px\", bg_color=\"#d0effa\", page_title=\"Twelve months later\"))\n",
    "map.add(\"\",[list(z) for z in zip(countrys_names, confirmedCount)],is_map_symbol_show=False,\n",
    "            maptype=\"world\",label_opts=opts.LabelOpts(is_show=False),itemstyle_opts=opts.ItemStyleOpts(color='#CCFFFF'))#地图区域颜色\n",
    "map.set_global_opts(title_opts = opts.TitleOpts(title=''),legend_opts=opts.LegendOpts(padding=\"10px\"),\n",
    "                     visualmap_opts=opts.VisualMapOpts(max_=10000000, is_piecewise=True,\n",
    "                                      pieces=[\n",
    "                                        {\"max\": 99999, \"min\": 10000, \"label\": \">10000\", \"color\": \"#ff585e\"},\n",
    "                                        {\"max\": 9999, \"min\": 1000, \"label\": \"1000-9999\", \"color\": \"#fb8146\"},\n",
    "                                        {\"max\": 999, \"min\": 99, \"label\": \"100-9999\", \"color\": \"#ffA500\"},\n",
    "                                        {\"max\": 99, \"min\": 1, \"label\": \"1-99\", \"color\": \"#ffb248\"},\n",
    "                                        {\"max\": 1, \"min\": 0, \"label\": \"0\", \"color\": \"#fff2d1\"},\n",
    "                                        ],item_height=20, item_width=40, textstyle_opts=opts.TextStyleOpts(font_size=20), \n",
    "                                                       pos_left = '13%', pos_bottom = '10%'))\n",
    "                    \n",
    "map.render('map_12.html')\n"
   ]
  },
  {
   "cell_type": "code",
   "execution_count": null,
   "metadata": {},
   "outputs": [],
   "source": [
    "sns.palplot(sns.color_palette('Reds',7))"
   ]
  },
  {
   "cell_type": "code",
   "execution_count": null,
   "metadata": {},
   "outputs": [],
   "source": [
    "np.array((sns.color_palette('Reds',7)[6]))  * 255"
   ]
  },
  {
   "cell_type": "code",
   "execution_count": 21,
   "metadata": {},
   "outputs": [],
   "source": [
    "from snapshot_phantomjs import snapshot\n",
    "from pyecharts.render import make_snapshot"
   ]
  },
  {
   "cell_type": "code",
   "execution_count": 22,
   "metadata": {},
   "outputs": [
    {
     "name": "stderr",
     "output_type": "stream",
     "text": [
      "No phantomjs found in your PATH. Please install it!\n"
     ]
    },
    {
     "ename": "SystemExit",
     "evalue": "1",
     "output_type": "error",
     "traceback": [
      "An exception has occurred, use %tb to see the full traceback.\n",
      "\u001b[1;31mSystemExit\u001b[0m\u001b[1;31m:\u001b[0m 1\n"
     ]
    },
    {
     "name": "stderr",
     "output_type": "stream",
     "text": [
      "E:\\Anaconda3\\lib\\site-packages\\IPython\\core\\interactiveshell.py:3334: UserWarning: To exit: use 'exit', 'quit', or Ctrl-D.\n",
      "  warn(\"To exit: use 'exit', 'quit', or Ctrl-D.\", stacklevel=1)\n"
     ]
    }
   ],
   "source": [
    "make_snapshot(snapshot,\"epidemic_map_2.html\",\"2.pdf\")"
   ]
  },
  {
   "cell_type": "code",
   "execution_count": 6,
   "metadata": {},
   "outputs": [],
   "source": [
    "import phantomjs "
   ]
  },
  {
   "cell_type": "code",
   "execution_count": null,
   "metadata": {},
   "outputs": [],
   "source": []
  }
 ],
 "metadata": {
  "kernelspec": {
   "display_name": "Python 3",
   "language": "python",
   "name": "python3"
  },
  "language_info": {
   "codemirror_mode": {
    "name": "ipython",
    "version": 3
   },
   "file_extension": ".py",
   "mimetype": "text/x-python",
   "name": "python",
   "nbconvert_exporter": "python",
   "pygments_lexer": "ipython3",
   "version": "3.7.4"
  }
 },
 "nbformat": 4,
 "nbformat_minor": 2
}
